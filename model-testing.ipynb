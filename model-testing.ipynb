{
 "cells": [
  {
   "cell_type": "markdown",
   "metadata": {},
   "source": [
    "### Here we tune and test the model"
   ]
  },
  {
   "cell_type": "code",
   "execution_count": 10,
   "metadata": {},
   "outputs": [],
   "source": [
    "import numpy as np\n",
    "import pandas as pd\n",
    "from recommender import CosineSimilarityRecommender, BaselineRecommender"
   ]
  },
  {
   "cell_type": "code",
   "execution_count": 2,
   "metadata": {},
   "outputs": [],
   "source": [
    "data = pd.read_csv('toy_data_meetup.csv')"
   ]
  },
  {
   "cell_type": "code",
   "execution_count": 11,
   "metadata": {},
   "outputs": [
    {
     "name": "stderr",
     "output_type": "stream",
     "text": [
      "/Users/filipkos/env/insight/lib/python3.7/site-packages/ipykernel_launcher.py:1: FutureWarning: Using a non-tuple sequence for multidimensional indexing is deprecated; use `arr[tuple(seq)]` instead of `arr[seq]`. In the future this will be interpreted as an array index, `arr[np.array(seq)]`, which will result either in an error or a different result.\n",
      "  \"\"\"Entry point for launching an IPython kernel.\n"
     ]
    },
    {
     "ename": "IndexError",
     "evalue": "only integers, slices (`:`), ellipsis (`...`), numpy.newaxis (`None`) and integer or boolean arrays are valid indices",
     "output_type": "error",
     "traceback": [
      "\u001b[0;31m---------------------------------------------------------------------------\u001b[0m",
      "\u001b[0;31mIndexError\u001b[0m                                Traceback (most recent call last)",
      "\u001b[0;32m<ipython-input-11-8b580feb5f21>\u001b[0m in \u001b[0;36m<module>\u001b[0;34m\u001b[0m\n\u001b[0;32m----> 1\u001b[0;31m \u001b[0mdata\u001b[0m \u001b[0;34m=\u001b[0m \u001b[0mdata\u001b[0m\u001b[0;34m[\u001b[0m\u001b[0;34m[\u001b[0m\u001b[0;34m'topic_name'\u001b[0m\u001b[0;34m,\u001b[0m \u001b[0;34m'member_id'\u001b[0m\u001b[0;34m]\u001b[0m\u001b[0;34m]\u001b[0m\u001b[0;34m\u001b[0m\u001b[0;34m\u001b[0m\u001b[0m\n\u001b[0m",
      "\u001b[0;31mIndexError\u001b[0m: only integers, slices (`:`), ellipsis (`...`), numpy.newaxis (`None`) and integer or boolean arrays are valid indices"
     ]
    }
   ],
   "source": [
    "data = data[['topic_name', 'member_id']]"
   ]
  },
  {
   "cell_type": "code",
   "execution_count": 12,
   "metadata": {},
   "outputs": [],
   "source": [
    "data = np.load('data_clear.npy')"
   ]
  },
  {
   "cell_type": "code",
   "execution_count": 13,
   "metadata": {},
   "outputs": [],
   "source": [
    "split = int(0.7 * data.shape[0])\n",
    "train = data[:split]\n",
    "test = data[split:]\n",
    "#mn = train.mean(axis = 0)\n",
    "# sig = np.sqrt(train.var(axis = 0))\n",
    "# train = (train - mn) / sig"
   ]
  },
  {
   "cell_type": "code",
   "execution_count": 14,
   "metadata": {},
   "outputs": [],
   "source": [
    "csr = CosineSimilarityRecommender()"
   ]
  },
  {
   "cell_type": "code",
   "execution_count": 15,
   "metadata": {},
   "outputs": [],
   "source": [
    "csr.fit(train, scaling=True, alpha=1)"
   ]
  },
  {
   "cell_type": "code",
   "execution_count": 9,
   "metadata": {},
   "outputs": [],
   "source": [
    "bsr = BaselineRecommender()\n",
    "bsr.fit(train)"
   ]
  },
  {
   "cell_type": "code",
   "execution_count": 26,
   "metadata": {},
   "outputs": [],
   "source": [
    "def listIntersection(arr1, arr2):\n",
    "    intersection_ = np.array([x for x in arr1 if x in arr2])\n",
    "    return intersection_\n",
    "\n",
    "def listDifference(arr1, arr2):\n",
    "    diff_ = np.array([x for x in arr1 if x not in arr2])\n",
    "    return diff_\n",
    "\n",
    "def divideList(arr, num):\n",
    "    chosen = np.random.choice(arr, num, replace=False)\n",
    "    remaining = listDifference(arr, chosen)\n",
    "    return chosen, remaining\n",
    "\n",
    "def evaluate(test, recommender, baseline_recommender, h=1 , k=3, epochs=1):\n",
    "    \"\"\"\n",
    "    Gives precision and information score for recommender relative to baseline_recommender.\n",
    "    \"\"\"\n",
    "    precision = 0\n",
    "    recall = 0\n",
    "    information = 0\n",
    "    baseline_precision = 0\n",
    "    baseline_recall = 0\n",
    "    baseline_information = 0\n",
    "    score = 0\n",
    "    baseline_score = 0\n",
    "    probs = baseline_recommender.scores\n",
    "    for epoch in range(epochs):\n",
    "        total_ = 0\n",
    "        count_ = 0\n",
    "        score = 0\n",
    "        baseline_score = 0\n",
    "        for vec in test:\n",
    "            if vec.sum() < h + 1:\n",
    "                continue\n",
    "            hobbies = np.where(vec)[0]\n",
    "            selected, remaining = divideList(hobbies, h)\n",
    "\n",
    "            user_input = np.zeros_like(vec)\n",
    "            user_input[selected] = np.ones_like(selected)\n",
    "\n",
    "            predictions = recommender.predict(user_input)[0]\n",
    "            rankings = np.argsort(predictions)[::-1]\n",
    "            rankings = listDifference(rankings, selected)\n",
    "\n",
    "            baseline_predictions = baseline_recommender.predict(user_input)[0]\n",
    "            baseline_rankings = np.argsort(baseline_predictions)[::-1]\n",
    "            baseline_rankings = listDifference(baseline_rankings, selected)\n",
    "\n",
    "            #Check how many were predicted correctly in top k\n",
    "            score += len(listIntersection(rankings[:k], remaining))\n",
    "            baseline_score += len(listIntersection(baseline_rankings[:k], remaining))\n",
    "            total_ += len(remaining)\n",
    "            count_ += 1\n",
    "            information += -np.sum(np.log(probs[listIntersection(rankings[:k], remaining).astype(np.int)]))\n",
    "            baseline_information += -np.sum(np.log(probs[listIntersection(baseline_rankings[:k], remaining).astype(np.int)]))\n",
    "                    \n",
    "        precision += score / (k * count_)\n",
    "        recall += score / total_\n",
    "        baseline_precision += baseline_score / (k * count_)\n",
    "        baseline_recall += baseline_score / total_\n",
    "        \n",
    "    results = {\"precision\": precision / epochs, \"recall\": recall / epochs,\n",
    "               \"information\": information / (k * count_ * epochs),\n",
    "              \"baseline_precision\": baseline_precision / epochs, \"baseline_recall\": baseline_recall / epochs,\n",
    "               \"baseline_information\": baseline_information /  (k * count_ * epochs),\n",
    "               \"relative_precision\": precision / baseline_precision,\n",
    "               \"relative_recall\": recall / baseline_recall,\n",
    "               \"relative_information\": information / baseline_information\n",
    "              }\n",
    "    return results  "
   ]
  },
  {
   "cell_type": "code",
   "execution_count": 27,
   "metadata": {
    "scrolled": true
   },
   "outputs": [
    {
     "data": {
      "text/plain": [
       "{'precision': 0.2902338376891334,\n",
       " 'recall': 0.2984441301272984,\n",
       " 'information': 0.5956134981499481,\n",
       " 'baseline_precision': 0.14580467675378267,\n",
       " 'baseline_recall': 0.14992927864214992,\n",
       " 'baseline_information': 0.1677051010593295,\n",
       " 'relative_precision': 1.990566037735849,\n",
       " 'relative_recall': 1.9905660377358492,\n",
       " 'relative_information': 3.5515526623083233}"
      ]
     },
     "execution_count": 27,
     "metadata": {},
     "output_type": "execute_result"
    }
   ],
   "source": [
    "evaluate(test, csr, bsr, h=7 , k=3, epochs=1)"
   ]
  },
  {
   "cell_type": "markdown",
   "metadata": {},
   "source": [
    "#### Tuning the alpha hyperparameter"
   ]
  },
  {
   "cell_type": "code",
   "execution_count": 39,
   "metadata": {},
   "outputs": [],
   "source": [
    "prec = {}\n",
    "info = {}\n",
    "for alpha in np.linspace(0, 2, 11):\n",
    "    csr.fit(train, scaling=True, alpha=alpha)\n",
    "    res = evaluate(train, csr, bsr, h=3 , k=3, epochs=10)\n",
    "    prec[alpha] = res['precision']\n",
    "    info[alpha] = res['information']"
   ]
  },
  {
   "cell_type": "code",
   "execution_count": 43,
   "metadata": {
    "scrolled": true
   },
   "outputs": [
    {
     "data": {
      "text/plain": [
       "dict_keys([0.0, 0.2, 0.4, 0.6000000000000001, 0.8, 1.0, 1.2000000000000002, 1.4000000000000001, 1.6, 1.8, 2.0])"
      ]
     },
     "execution_count": 43,
     "metadata": {},
     "output_type": "execute_result"
    }
   ],
   "source": [
    "prec.keys()"
   ]
  },
  {
   "cell_type": "markdown",
   "metadata": {},
   "source": [
    "Evaluate the performance for different values of the hyperparameter on the training data."
   ]
  },
  {
   "cell_type": "code",
   "execution_count": 50,
   "metadata": {},
   "outputs": [
    {
     "data": {
      "text/plain": [
       "[<matplotlib.lines.Line2D at 0x1193e6e10>]"
      ]
     },
     "execution_count": 50,
     "metadata": {},
     "output_type": "execute_result"
    },
    {
     "data": {
      "image/png": "[encoded data removed]",
      "text/plain": [
       "<Figure size 432x288 with 1 Axes>"
      ]
     },
     "metadata": {
      "needs_background": "light"
     },
     "output_type": "display_data"
    }
   ],
   "source": [
    "from matplotlib import pyplot as plt\n",
    "plt.plot(np.array(list(prec.items()))[:,0], np.array(list(prec.items()))[:,1])"
   ]
  },
  {
   "cell_type": "markdown",
   "metadata": {},
   "source": [
    "The value alpha = 1 looks reasonable for the hyperparameter, so we'll go with that."
   ]
  },
  {
   "cell_type": "markdown",
   "metadata": {},
   "source": [
    "#### Testing the performance of the model"
   ]
  },
  {
   "cell_type": "markdown",
   "metadata": {},
   "source": [
    "Here we will look at the recommender performance on the test dataset. In particular we compute the precision and information gain of top-3 recommendations relative to the baseline recommender, as a function of number of hobbies rated."
   ]
  },
  {
   "cell_type": "code",
   "execution_count": 8,
   "metadata": {},
   "outputs": [
    {
     "ename": "NameError",
     "evalue": "name 'csr' is not defined",
     "output_type": "error",
     "traceback": [
      "\u001b[0;31m---------------------------------------------------------------------------\u001b[0m",
      "\u001b[0;31mNameError\u001b[0m                                 Traceback (most recent call last)",
      "\u001b[0;32m<ipython-input-8-2c5aacb8c1a2>\u001b[0m in \u001b[0;36m<module>\u001b[0;34m\u001b[0m\n\u001b[0;32m----> 1\u001b[0;31m \u001b[0mcsr\u001b[0m\u001b[0;34m.\u001b[0m\u001b[0mfit\u001b[0m\u001b[0;34m(\u001b[0m\u001b[0mtrain\u001b[0m\u001b[0;34m,\u001b[0m \u001b[0mscaling\u001b[0m\u001b[0;34m=\u001b[0m\u001b[0;32mTrue\u001b[0m\u001b[0;34m,\u001b[0m \u001b[0malpha\u001b[0m\u001b[0;34m=\u001b[0m\u001b[0;36m1\u001b[0m\u001b[0;34m)\u001b[0m\u001b[0;34m\u001b[0m\u001b[0;34m\u001b[0m\u001b[0m\n\u001b[0m\u001b[1;32m      2\u001b[0m \u001b[0mresults\u001b[0m \u001b[0;34m=\u001b[0m \u001b[0;34m{\u001b[0m\u001b[0;34m}\u001b[0m\u001b[0;34m\u001b[0m\u001b[0;34m\u001b[0m\u001b[0m\n\u001b[1;32m      3\u001b[0m \u001b[0;32mfor\u001b[0m \u001b[0mh\u001b[0m \u001b[0;32min\u001b[0m \u001b[0mrange\u001b[0m\u001b[0;34m(\u001b[0m\u001b[0;36m0\u001b[0m\u001b[0;34m,\u001b[0m\u001b[0;36m7\u001b[0m\u001b[0;34m)\u001b[0m\u001b[0;34m:\u001b[0m\u001b[0;34m\u001b[0m\u001b[0;34m\u001b[0m\u001b[0m\n\u001b[1;32m      4\u001b[0m     \u001b[0mcsr\u001b[0m\u001b[0;34m.\u001b[0m\u001b[0mfit\u001b[0m\u001b[0;34m(\u001b[0m\u001b[0mtrain\u001b[0m\u001b[0;34m,\u001b[0m \u001b[0mscaling\u001b[0m\u001b[0;34m=\u001b[0m\u001b[0;32mTrue\u001b[0m\u001b[0;34m,\u001b[0m \u001b[0malpha\u001b[0m\u001b[0;34m=\u001b[0m\u001b[0;36m1\u001b[0m\u001b[0;34m)\u001b[0m\u001b[0;34m\u001b[0m\u001b[0;34m\u001b[0m\u001b[0m\n\u001b[1;32m      5\u001b[0m     \u001b[0mresults\u001b[0m\u001b[0;34m[\u001b[0m\u001b[0mh\u001b[0m\u001b[0;34m]\u001b[0m \u001b[0;34m=\u001b[0m \u001b[0mevaluate\u001b[0m\u001b[0;34m(\u001b[0m\u001b[0mtest\u001b[0m\u001b[0;34m,\u001b[0m \u001b[0mcsr\u001b[0m\u001b[0;34m,\u001b[0m \u001b[0mbsr\u001b[0m\u001b[0;34m,\u001b[0m \u001b[0mh\u001b[0m\u001b[0;34m=\u001b[0m\u001b[0mh\u001b[0m\u001b[0;34m,\u001b[0m \u001b[0mk\u001b[0m\u001b[0;34m=\u001b[0m\u001b[0;36m3\u001b[0m\u001b[0;34m,\u001b[0m \u001b[0mepochs\u001b[0m\u001b[0;34m=\u001b[0m\u001b[0;36m10\u001b[0m\u001b[0;34m)\u001b[0m\u001b[0;34m\u001b[0m\u001b[0;34m\u001b[0m\u001b[0m\n",
      "\u001b[0;31mNameError\u001b[0m: name 'csr' is not defined"
     ]
    }
   ],
   "source": [
    "csr.fit(train, scaling=True, alpha=1)\n",
    "results = {}\n",
    "for h in range(0,7):\n",
    "    csr.fit(train, scaling=True, alpha=1)\n",
    "    results[h] = evaluate(test, csr, bsr, h=h, k=3, epochs=10)"
   ]
  },
  {
   "cell_type": "code",
   "execution_count": 69,
   "metadata": {},
   "outputs": [
    {
     "data": {
      "text/plain": [
       "[0.9416364599097892,\n",
       " 2.139428516359579,\n",
       " 2.6969182858765013,\n",
       " 3.0599575200589038,\n",
       " 3.3358578109043022,\n",
       " 3.5862012807743957,\n",
       " 3.7597122740768207]"
      ]
     },
     "execution_count": 69,
     "metadata": {},
     "output_type": "execute_result"
    }
   ],
   "source": [
    "[results[h]['relative_precision'] for h in rated]\n",
    "[results[h]['relative_information'] for h in rated]"
   ]
  },
  {
   "cell_type": "code",
   "execution_count": 71,
   "metadata": {},
   "outputs": [
    {
     "data": {
      "text/plain": [
       "[<matplotlib.lines.Line2D at 0x115be3198>]"
      ]
     },
     "execution_count": 71,
     "metadata": {},
     "output_type": "execute_result"
    },
    {
     "data": {
      "image/png": "[encoded data removed]",
      "text/plain": [
       "<Figure size 432x288 with 1 Axes>"
      ]
     },
     "metadata": {
      "needs_background": "light"
     },
     "output_type": "display_data"
    }
   ],
   "source": [
    "rated = np.array(list(results.keys()))\n",
    "prec = np.array([results[h]['relative_precision'] for h in rated])\n",
    "info = np.array([results[h]['relative_information'] for h in rated])\n",
    "plt.plot(rated, prec, 'o')"
   ]
  },
  {
   "cell_type": "code",
   "execution_count": 72,
   "metadata": {},
   "outputs": [
    {
     "data": {
      "text/plain": [
       "[<matplotlib.lines.Line2D at 0x115c5deb8>]"
      ]
     },
     "execution_count": 72,
     "metadata": {},
     "output_type": "execute_result"
    },
    {
     "data": {
      "image/png": "[encoded data removed]",
      "text/plain": [
       "<Figure size 432x288 with 1 Axes>"
      ]
     },
     "metadata": {
      "needs_background": "light"
     },
     "output_type": "display_data"
    }
   ],
   "source": [
    "plt.plot(rated, info, 'o')"
   ]
  },
  {
   "cell_type": "markdown",
   "metadata": {},
   "source": [
    "The cosine similarity recommender outperforms baseline by a factor of 2 in terms of precision, and factor of almost 4 in terms of information."
   ]
  },
  {
   "cell_type": "code",
   "execution_count": 20,
   "metadata": {},
   "outputs": [
    {
     "data": {
      "text/plain": [
       "array([[3.38802298e-01, 5.13347602e-02, 6.24825173e-02, ...,\n",
       "        1.32109310e-03, 2.17609544e-04, 1.46256234e-09],\n",
       "       [6.45926478e-02, 2.63990779e-01, 5.49713289e-02, ...,\n",
       "        1.83278808e-02, 3.46140143e-04, 1.56103877e-09],\n",
       "       [6.25590733e-02, 4.37417823e-02, 3.34886973e-01, ...,\n",
       "        1.49296639e-03, 8.92567097e-05, 6.50742465e-04],\n",
       "       ...,\n",
       "       [9.56904083e-04, 1.05505642e-02, 1.08007329e-03, ...,\n",
       "        5.24800184e-01, 1.05161319e-09, 1.36497809e-09],\n",
       "       [1.45091686e-04, 1.83419289e-04, 5.94392981e-05, ...,\n",
       "        9.68022892e-10, 5.54531936e-01, 2.61073519e-03],\n",
       "       [7.27497750e-10, 6.17105485e-10, 3.23291753e-04, ...,\n",
       "        9.37363332e-10, 1.94767057e-03, 7.94544128e-01]])"
      ]
     },
     "execution_count": 20,
     "metadata": {},
     "output_type": "execute_result"
    }
   ],
   "source": [
    "csr.similarity"
   ]
  },
  {
   "cell_type": "code",
   "execution_count": 21,
   "metadata": {},
   "outputs": [],
   "source": [
    "np.save(\"mn.npy\", csr.mn)"
   ]
  },
  {
   "cell_type": "code",
   "execution_count": 22,
   "metadata": {},
   "outputs": [],
   "source": [
    "np.save(\"sig.npy\", csr.sig)"
   ]
  },
  {
   "cell_type": "code",
   "execution_count": 23,
   "metadata": {},
   "outputs": [],
   "source": [
    "np.save(\"similarity.npy\", csr.similarity)"
   ]
  },
  {
   "cell_type": "code",
   "execution_count": null,
   "metadata": {},
   "outputs": [],
   "source": []
  }
 ],
 "metadata": {
  "kernelspec": {
   "display_name": "Python 3",
   "language": "python",
   "name": "python3"
  },
  "language_info": {
   "codemirror_mode": {
    "name": "ipython",
    "version": 3
   },
   "file_extension": ".py",
   "mimetype": "text/x-python",
   "name": "python",
   "nbconvert_exporter": "python",
   "pygments_lexer": "ipython3",
   "version": "3.7.4"
  }
 },
 "nbformat": 4,
 "nbformat_minor": 2
}
